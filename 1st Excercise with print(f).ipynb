{
 "cells": [
  {
   "cell_type": "markdown",
   "metadata": {},
   "source": [
    "# Examples about coding with Print"
   ]
  },
  {
   "cell_type": "code",
   "execution_count": 1,
   "metadata": {},
   "outputs": [
    {
     "name": "stdout",
     "output_type": "stream",
     "text": [
      "Computer:How old are you?\n",
      "Me:19\n",
      "Computer:Your 19 years old!\n"
     ]
    }
   ],
   "source": [
    "print(\"Computer:How old are you?\")\n",
    "name=int(input(\"Me:\"))\n",
    "print(f\"Computer:Your {name} years old!\")"
   ]
  },
  {
   "cell_type": "code",
   "execution_count": 2,
   "metadata": {},
   "outputs": [
    {
     "name": "stdout",
     "output_type": "stream",
     "text": [
      "How old are you? 19\n",
      "Really? your 19\n"
     ]
    }
   ],
   "source": [
    "age=int(input(\"How old are you? \"))\n",
    "print(f\"Really? your {age}\")"
   ]
  },
  {
   "cell_type": "code",
   "execution_count": 3,
   "metadata": {},
   "outputs": [
    {
     "name": "stdout",
     "output_type": "stream",
     "text": [
      "Computer:How old are you?\n",
      "19\n",
      "Computer:Your 19 years old!\n"
     ]
    }
   ],
   "source": [
    "print(\"Computer:How old are you?\")\n",
    "name=input()\n",
    "print(f\"Computer:Your {name} years old!\")"
   ]
  },
  {
   "cell_type": "code",
   "execution_count": 4,
   "metadata": {},
   "outputs": [
    {
     "name": "stdout",
     "output_type": "stream",
     "text": [
      "What's your name?\n",
      "Me:Samuel\n",
      "Hello there,Samuel!\n"
     ]
    }
   ],
   "source": [
    "print(\"What's your name?\")\n",
    "name=input(\"Me:\")\n",
    "print(f\"Hello there,{name}!\")"
   ]
  },
  {
   "cell_type": "markdown",
   "metadata": {},
   "source": [
    "# Excercise "
   ]
  },
  {
   "cell_type": "markdown",
   "metadata": {},
   "source": [
    "Write a program that ask for the age of three students and return the sample mean"
   ]
  },
  {
   "cell_type": "code",
   "execution_count": 5,
   "metadata": {},
   "outputs": [
    {
     "name": "stdout",
     "output_type": "stream",
     "text": [
      "Please enter your age student 1:\n",
      "12\n",
      "Please enter your age student 2:\n",
      "15\n",
      "Please enter your age student 3:\n",
      "19\n",
      "The mean from these ages are 15.333333333333334.\n"
     ]
    }
   ],
   "source": [
    "print(\"Please enter your age student 1:\")\n",
    "x=int(input()) #Variable 1\n",
    "print(\"Please enter your age student 2:\")\n",
    "y=int(input()) #Variable 2\n",
    "print(\"Please enter your age student 3:\")\n",
    "z=int(input()) #Variable 3\n",
    "\n",
    "mean=(x+y+z)/3 #quick maths\n",
    "\n",
    "print(f\"The mean from these ages are {mean}.\")"
   ]
  },
  {
   "cell_type": "markdown",
   "metadata": {},
   "source": [
    "Okay, so the way I did this little program was to assign 3 variables where the ages were going to be inserted, and i must use the \"INT\" in order to store them as a number, if i dont it will mark an error.\n",
    "And used the command input just so they can insert their age manually while running the program.\n",
    "Now that they inserted their age, the program will do a \"quick math\" that i assigned as the variable mean.\n",
    "Once that is finished, i assigned a variable inside another variable using the comand \"print(f\"\")\"where i am able to put a variable inside another variable."
   ]
  },
  {
   "cell_type": "code",
   "execution_count": null,
   "metadata": {},
   "outputs": [],
   "source": []
  }
 ],
 "metadata": {
  "kernelspec": {
   "display_name": "Python 3",
   "language": "python",
   "name": "python3"
  },
  "language_info": {
   "codemirror_mode": {
    "name": "ipython",
    "version": 3
   },
   "file_extension": ".py",
   "mimetype": "text/x-python",
   "name": "python",
   "nbconvert_exporter": "python",
   "pygments_lexer": "ipython3",
   "version": "3.7.4"
  }
 },
 "nbformat": 4,
 "nbformat_minor": 2
}
